{
 "cells": [
  {
   "cell_type": "code",
   "execution_count": 4,
   "metadata": {},
   "outputs": [],
   "source": [
    "import torch\n",
    "import numpy as np"
   ]
  },
  {
   "cell_type": "code",
   "execution_count": 15,
   "metadata": {},
   "outputs": [],
   "source": [
    "X = torch.tensor([1, 2, 3, 4], dtype = torch.float32)\n",
    "Y = torch.tensor([2, 4, 6, 8], dtype = torch.float32)\n",
    "weights = torch.randn((), dtype = torch.float32, requires_grad = True)"
   ]
  },
  {
   "cell_type": "code",
   "execution_count": 16,
   "metadata": {},
   "outputs": [],
   "source": [
    "def forward(X, W):\n",
    "    return W*X"
   ]
  },
  {
   "cell_type": "code",
   "execution_count": 22,
   "metadata": {},
   "outputs": [],
   "source": [
    "def cal_loss(Y_true, Y_pred):\n",
    "    return ((Y_true - Y_pred)**2).mean()"
   ]
  },
  {
   "cell_type": "code",
   "execution_count": 27,
   "metadata": {},
   "outputs": [],
   "source": [
    "learning_rate = 0.01\n",
    "epochs = 50"
   ]
  },
  {
   "cell_type": "code",
   "execution_count": 28,
   "metadata": {},
   "outputs": [
    {
     "name": "stdout",
     "output_type": "stream",
     "text": [
      "Epoch 1: W = 1.971, Loss = 0.00853317\n",
      "Epoch 11: W = 1.994, Loss = 0.00033075\n",
      "Epoch 21: W = 1.999, Loss = 0.00001282\n",
      "Epoch 31: W = 2.000, Loss = 0.00000050\n",
      "Epoch 41: W = 2.000, Loss = 0.00000002\n"
     ]
    }
   ],
   "source": [
    "for epoch in range(epochs):\n",
    "    Y_pred = forward(X, weights)\n",
    "\n",
    "    loss = cal_loss(Y, Y_pred)\n",
    "\n",
    "    loss.backward()\n",
    "\n",
    "    with torch.no_grad():\n",
    "        weights -= learning_rate * weights.grad\n",
    "\n",
    "    weights.grad.zero_()\n",
    "\n",
    "    if epoch %10 == 0:\n",
    "        print(f'Epoch {epoch + 1}: W = {weights:.3f}, Loss = {loss:.8f}')"
   ]
  }
 ],
 "metadata": {
  "interpreter": {
   "hash": "aa441d2f3400368b5418447fdae6b470aa6bbbb26644267fca0e92331fc430b8"
  },
  "kernelspec": {
   "display_name": "Python 3.9.7 64-bit ('DL': conda)",
   "language": "python",
   "name": "python3"
  },
  "language_info": {
   "codemirror_mode": {
    "name": "ipython",
    "version": 3
   },
   "file_extension": ".py",
   "mimetype": "text/x-python",
   "name": "python",
   "nbconvert_exporter": "python",
   "pygments_lexer": "ipython3",
   "version": "3.9.7"
  },
  "orig_nbformat": 4
 },
 "nbformat": 4,
 "nbformat_minor": 2
}
