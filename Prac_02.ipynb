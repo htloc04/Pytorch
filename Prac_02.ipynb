{
 "cells": [
  {
   "cell_type": "code",
   "execution_count": 67,
   "metadata": {},
   "outputs": [],
   "source": [
    "import torch\n",
    "import numpy as np\n",
    "import torch.nn as nn"
   ]
  },
  {
   "cell_type": "code",
   "execution_count": 68,
   "metadata": {},
   "outputs": [],
   "source": [
    "X = torch.tensor([[1], [2], [3], [4]], dtype = torch.float32)\n",
    "Y = torch.tensor([[2], [4], [6], [8]], dtype = torch.float32)\n",
    "\n",
    "X_test = torch.tensor([5], dtype = torch.float32)"
   ]
  },
  {
   "cell_type": "code",
   "execution_count": 69,
   "metadata": {},
   "outputs": [],
   "source": [
    "n_samples, n_features = X.shape\n",
    "input_size = n_features\n",
    "output_size = n_features"
   ]
  },
  {
   "cell_type": "code",
   "execution_count": 70,
   "metadata": {},
   "outputs": [],
   "source": [
    "# in_features: size of each input sample\n",
    "# out_features: size of each output sample\n",
    "\n",
    "# model = nn.Linear(input_size, output_size)"
   ]
  },
  {
   "cell_type": "code",
   "execution_count": 71,
   "metadata": {},
   "outputs": [],
   "source": [
    "#     OOP: https://quantrimang.com/lap-trinh-huong-doi-tuong-trong-python-160230\n",
    "class LinearRegression(nn.Module):\n",
    "    def __init__(self, input_dim, output_dim):\n",
    "        super().__init__()\n",
    "        self.lin = nn.Linear(input_dim, output_dim)\n",
    "\n",
    "    def forward(self, x):\n",
    "        return self.lin(x)"
   ]
  },
  {
   "cell_type": "code",
   "execution_count": 72,
   "metadata": {},
   "outputs": [],
   "source": [
    "model = LinearRegression(input_size, output_size)"
   ]
  },
  {
   "cell_type": "code",
   "execution_count": 73,
   "metadata": {},
   "outputs": [
    {
     "name": "stdout",
     "output_type": "stream",
     "text": [
      "Prediction before training: f(5) = 2.161\n"
     ]
    }
   ],
   "source": [
    "print(f'Prediction before training: f(5) = {model(X_test).item():.3f}')"
   ]
  },
  {
   "cell_type": "code",
   "execution_count": 74,
   "metadata": {},
   "outputs": [],
   "source": [
    "learning_rate = 0.05\n",
    "epochs = 500"
   ]
  },
  {
   "cell_type": "code",
   "execution_count": 75,
   "metadata": {},
   "outputs": [],
   "source": [
    "loss_func = nn.MSELoss()\n",
    "optimizer = torch.optim.Adam(model.parameters(), lr = learning_rate)"
   ]
  },
  {
   "cell_type": "code",
   "execution_count": 76,
   "metadata": {},
   "outputs": [
    {
     "name": "stdout",
     "output_type": "stream",
     "text": [
      "Epoch 1: W = 0.358, Loss = 16.59943390\n",
      "Epoch 11: W = 0.843, Loss = 5.40515375\n",
      "Epoch 21: W = 1.249, Loss = 0.97234851\n",
      "Epoch 31: W = 1.491, Loss = 0.52460396\n",
      "Epoch 41: W = 1.554, Loss = 0.63890779\n",
      "Epoch 51: W = 1.517, Loss = 0.46076724\n",
      "Epoch 61: W = 1.479, Loss = 0.36697200\n",
      "Epoch 71: W = 1.486, Loss = 0.34029591\n",
      "Epoch 81: W = 1.525, Loss = 0.29981264\n",
      "Epoch 91: W = 1.567, Loss = 0.26449546\n",
      "Epoch 101: W = 1.596, Loss = 0.23398414\n",
      "Epoch 111: W = 1.617, Loss = 0.20477474\n",
      "Epoch 121: W = 1.640, Loss = 0.17831860\n",
      "Epoch 131: W = 1.666, Loss = 0.15424982\n",
      "Epoch 141: W = 1.692, Loss = 0.13255936\n",
      "Epoch 151: W = 1.715, Loss = 0.11321437\n",
      "Epoch 161: W = 1.738, Loss = 0.09608886\n",
      "Epoch 171: W = 1.759, Loss = 0.08105950\n",
      "Epoch 181: W = 1.779, Loss = 0.06797026\n",
      "Epoch 191: W = 1.799, Loss = 0.05665747\n",
      "Epoch 201: W = 1.817, Loss = 0.04695150\n",
      "Epoch 211: W = 1.834, Loss = 0.03868327\n",
      "Epoch 221: W = 1.850, Loss = 0.03168844\n",
      "Epoch 231: W = 1.864, Loss = 0.02581109\n",
      "Epoch 241: W = 1.878, Loss = 0.02090531\n",
      "Epoch 251: W = 1.890, Loss = 0.01683713\n",
      "Epoch 261: W = 1.902, Loss = 0.01348520\n",
      "Epoch 271: W = 1.913, Loss = 0.01074072\n",
      "Epoch 281: W = 1.922, Loss = 0.00850765\n",
      "Epoch 291: W = 1.931, Loss = 0.00670186\n",
      "Epoch 301: W = 1.939, Loss = 0.00525043\n",
      "Epoch 311: W = 1.946, Loss = 0.00409090\n",
      "Epoch 321: W = 1.953, Loss = 0.00317009\n",
      "Epoch 331: W = 1.958, Loss = 0.00244317\n",
      "Epoch 341: W = 1.964, Loss = 0.00187272\n",
      "Epoch 351: W = 1.968, Loss = 0.00142765\n",
      "Epoch 361: W = 1.972, Loss = 0.00108246\n",
      "Epoch 371: W = 1.976, Loss = 0.00081628\n",
      "Epoch 381: W = 1.979, Loss = 0.00061220\n",
      "Epoch 391: W = 1.982, Loss = 0.00045665\n",
      "Epoch 401: W = 1.985, Loss = 0.00033876\n",
      "Epoch 411: W = 1.987, Loss = 0.00024995\n",
      "Epoch 421: W = 1.989, Loss = 0.00018340\n",
      "Epoch 431: W = 1.990, Loss = 0.00013383\n",
      "Epoch 441: W = 1.992, Loss = 0.00009713\n",
      "Epoch 451: W = 1.993, Loss = 0.00007010\n",
      "Epoch 461: W = 1.994, Loss = 0.00005031\n",
      "Epoch 471: W = 1.995, Loss = 0.00003591\n",
      "Epoch 481: W = 1.996, Loss = 0.00002549\n",
      "Epoch 491: W = 1.996, Loss = 0.00001799\n"
     ]
    }
   ],
   "source": [
    "for epoch in range(epochs):\n",
    "    Y_pred = model(X)\n",
    "\n",
    "    loss = loss_func(Y, Y_pred)\n",
    "    loss.backward()\n",
    "\n",
    "    optimizer.step()\n",
    "\n",
    "    optimizer.zero_grad()\n",
    "\n",
    "    if epoch % 10 == 0:\n",
    "        [W, B] = model.parameters()\n",
    "        print(f'Epoch {epoch + 1}: W = {W[0].item():.3f}, Loss = {loss:.8f}')"
   ]
  }
 ],
 "metadata": {
  "interpreter": {
   "hash": "aa441d2f3400368b5418447fdae6b470aa6bbbb26644267fca0e92331fc430b8"
  },
  "kernelspec": {
   "display_name": "Python 3.9.7 64-bit ('DL': conda)",
   "language": "python",
   "name": "python3"
  },
  "language_info": {
   "codemirror_mode": {
    "name": "ipython",
    "version": 3
   },
   "file_extension": ".py",
   "mimetype": "text/x-python",
   "name": "python",
   "nbconvert_exporter": "python",
   "pygments_lexer": "ipython3",
   "version": "3.9.7"
  },
  "orig_nbformat": 4
 },
 "nbformat": 4,
 "nbformat_minor": 2
}
