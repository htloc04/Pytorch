{
 "cells": [
  {
   "cell_type": "code",
   "execution_count": 32,
   "metadata": {},
   "outputs": [],
   "source": [
    "import numpy as np\n",
    "import torch\n",
    "import torch.nn as nn"
   ]
  },
  {
   "cell_type": "code",
   "execution_count": 29,
   "metadata": {},
   "outputs": [],
   "source": [
    "loss = nn.CrossEntropyLoss()\n",
    "\n",
    "#   Three samples\n",
    "Y_true = torch.tensor([2, 0, 1])\n",
    "#   Three samples x three classes\n",
    "Ypred_bad = torch.tensor([[0.1, 0.02, 2.5], [2.0, 1.0, 0.1], [0.05, 3.0, 0.3]])\n",
    "Ypred_good = torch.tensor([[2.0, 1.0, 0.1], [0.05, 2.0, 0.3], [0.1, 0.02, 2.5]])"
   ]
  },
  {
   "cell_type": "code",
   "execution_count": 30,
   "metadata": {},
   "outputs": [],
   "source": [
    "L1 = loss(Ypred_bad, Y_true)\n",
    "L2 = loss(Ypred_good, Y_true)"
   ]
  },
  {
   "cell_type": "code",
   "execution_count": 31,
   "metadata": {},
   "outputs": [
    {
     "name": "stdout",
     "output_type": "stream",
     "text": [
      "0.23025397956371307\n",
      "2.396406650543213\n"
     ]
    }
   ],
   "source": [
    "print(L1.item())\n",
    "print(L2.item())"
   ]
  }
 ],
 "metadata": {
  "interpreter": {
   "hash": "aa441d2f3400368b5418447fdae6b470aa6bbbb26644267fca0e92331fc430b8"
  },
  "kernelspec": {
   "display_name": "Python 3.9.7 ('DL')",
   "language": "python",
   "name": "python3"
  },
  "language_info": {
   "codemirror_mode": {
    "name": "ipython",
    "version": 3
   },
   "file_extension": ".py",
   "mimetype": "text/x-python",
   "name": "python",
   "nbconvert_exporter": "python",
   "pygments_lexer": "ipython3",
   "version": "3.9.7"
  },
  "orig_nbformat": 4
 },
 "nbformat": 4,
 "nbformat_minor": 2
}
