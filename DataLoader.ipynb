{
 "cells": [
  {
   "cell_type": "code",
   "execution_count": 4,
   "metadata": {},
   "outputs": [],
   "source": [
    "import torch\n",
    "import pandas as pd\n",
    "import numpy as np\n",
    "import torchvision\n",
    "from torch.utils.data import Dataset, DataLoader"
   ]
  },
  {
   "cell_type": "code",
   "execution_count": 99,
   "metadata": {},
   "outputs": [],
   "source": [
    "class WineDataset(Dataset):\n",
    "    def __init__(self):\n",
    "        numpy_df = pd.read_csv('wine.csv').to_numpy().astype(np.float32)\n",
    "        self.x = torch.from_numpy(numpy_df[:, 1:])\n",
    "        self.y = torch.from_numpy(numpy_df[:, [0]])\n",
    "        self.n_samples = numpy_df.shape[0]\n",
    "\n",
    "    def __getitem__(self, index):\n",
    "        return self.x[index], self.y[index]\n",
    "        \n",
    "    def __len__(self):\n",
    "        return self.n_samples"
   ]
  },
  {
   "cell_type": "code",
   "execution_count": 100,
   "metadata": {},
   "outputs": [],
   "source": [
    "dataset = WineDataset()\n",
    "batch_size = 4\n",
    "dataloader = DataLoader(dataset = dataset, batch_size = batch_size, shuffle = True)"
   ]
  },
  {
   "cell_type": "code",
   "execution_count": 103,
   "metadata": {},
   "outputs": [
    {
     "name": "stdout",
     "output_type": "stream",
     "text": [
      "Epoch 1/2, step 5/45.0, inputs torch.Size([4, 13])\n",
      "Epoch 1/2, step 10/45.0, inputs torch.Size([4, 13])\n",
      "Epoch 1/2, step 15/45.0, inputs torch.Size([4, 13])\n",
      "Epoch 1/2, step 20/45.0, inputs torch.Size([4, 13])\n",
      "Epoch 1/2, step 25/45.0, inputs torch.Size([4, 13])\n",
      "Epoch 1/2, step 30/45.0, inputs torch.Size([4, 13])\n",
      "Epoch 1/2, step 35/45.0, inputs torch.Size([4, 13])\n",
      "Epoch 1/2, step 40/45.0, inputs torch.Size([4, 13])\n",
      "Epoch 1/2, step 45/45.0, inputs torch.Size([2, 13])\n",
      "Epoch 2/2, step 5/45.0, inputs torch.Size([4, 13])\n",
      "Epoch 2/2, step 10/45.0, inputs torch.Size([4, 13])\n",
      "Epoch 2/2, step 15/45.0, inputs torch.Size([4, 13])\n",
      "Epoch 2/2, step 20/45.0, inputs torch.Size([4, 13])\n",
      "Epoch 2/2, step 25/45.0, inputs torch.Size([4, 13])\n",
      "Epoch 2/2, step 30/45.0, inputs torch.Size([4, 13])\n",
      "Epoch 2/2, step 35/45.0, inputs torch.Size([4, 13])\n",
      "Epoch 2/2, step 40/45.0, inputs torch.Size([4, 13])\n",
      "Epoch 2/2, step 45/45.0, inputs torch.Size([2, 13])\n"
     ]
    }
   ],
   "source": [
    "#   Training loop\n",
    "num_epochs = 2\n",
    "total_samples = len(dataset)\n",
    "n_iters = np.ceil(total_samples/batch_size)\n",
    "\n",
    "for epoch in range(num_epochs):\n",
    "    for i , (inputs, labes) in enumerate(dataloader):\n",
    "        if (i+1) % 5 == 0:\n",
    "            # print(f\"Epoch {epoch + 1}/{num_epochs}, step {i+1}/{n_iters}, inputs {inputs.shape}\")\n",
    "            "
   ]
  },
  {
   "cell_type": "code",
   "execution_count": null,
   "metadata": {},
   "outputs": [],
   "source": []
  }
 ],
 "metadata": {
  "interpreter": {
   "hash": "aa441d2f3400368b5418447fdae6b470aa6bbbb26644267fca0e92331fc430b8"
  },
  "kernelspec": {
   "display_name": "Python 3.9.7 ('DL')",
   "language": "python",
   "name": "python3"
  },
  "language_info": {
   "codemirror_mode": {
    "name": "ipython",
    "version": 3
   },
   "file_extension": ".py",
   "mimetype": "text/x-python",
   "name": "python",
   "nbconvert_exporter": "python",
   "pygments_lexer": "ipython3",
   "version": "3.9.7"
  },
  "orig_nbformat": 4
 },
 "nbformat": 4,
 "nbformat_minor": 2
}
