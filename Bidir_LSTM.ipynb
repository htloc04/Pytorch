{
 "cells": [
  {
   "cell_type": "code",
   "execution_count": 11,
   "metadata": {},
   "outputs": [],
   "source": [
    "import torch\n",
    "import torch.nn as nn\n",
    "from torch.utils.data import DataLoader\n",
    "import torchvision.transforms as transforms\n",
    "import torchvision.datasets as datasets\n",
    "import matplotlib.pyplot as plt\n",
    "import torch.nn.functional as F\n",
    "import torch.optim as optim"
   ]
  },
  {
   "cell_type": "code",
   "execution_count": 12,
   "metadata": {},
   "outputs": [],
   "source": [
    "device = 'cuda' if torch.cuda.is_available() else 'cpu'"
   ]
  },
  {
   "cell_type": "code",
   "execution_count": 13,
   "metadata": {},
   "outputs": [],
   "source": [
    "batch_size = 32\n",
    "learning_rate = 1e-3\n",
    "input_size = 28\n",
    "sequence_len = 28\n",
    "num_layers = 2\n",
    "hidden_size = 128\n",
    "num_epochs = 8\n",
    "num_classes = 10\n",
    "load_model = True"
   ]
  },
  {
   "cell_type": "code",
   "execution_count": 14,
   "metadata": {},
   "outputs": [],
   "source": [
    "train_data = datasets.MNIST(root = 'Datasets\\\\', train = True, transform = transforms.ToTensor(), download = False)\n",
    "train_loader = DataLoader(dataset = train_data, batch_size = batch_size, shuffle = True)\n",
    "test_data = datasets.MNIST(root = 'Datasets\\\\', train = False, transform = transforms.ToTensor(), download = False)\n",
    "test_loader = DataLoader(dataset = test_data, batch_size = batch_size, shuffle = False)"
   ]
  },
  {
   "cell_type": "code",
   "execution_count": 15,
   "metadata": {},
   "outputs": [],
   "source": [
    "class Bi_LSTM(nn.Module):\n",
    "    def __init__(self, input_size, hidden_size, num_classes, num_layers):\n",
    "        super(Bi_LSTM, self).__init__()\n",
    "        self.hidden_size = hidden_size\n",
    "        self.num_layers = num_layers\n",
    "        self.lstm = nn.LSTM(input_size, hidden_size, num_layers, batch_first = True, bidirectional = True)\n",
    "        self.fc = nn.Linear(hidden_size*2, num_classes)\n",
    "\n",
    "    def forward(self, x):\n",
    "        ho = torch.randn(self.num_layers*2, x.shape[0], self.hidden_size).to(device)\n",
    "        co = torch.randn(self.num_layers*2, x.shape[0], self.hidden_size).to(device)\n",
    "\n",
    "        out, (hn, cn) = self.lstm(x, (ho, co))\n",
    "        out = self.fc(out[:, -1, :])\n",
    "        return out"
   ]
  },
  {
   "cell_type": "code",
   "execution_count": 16,
   "metadata": {},
   "outputs": [],
   "source": [
    "def save_checkpoint(state, filepath = 'my_model.pth'):\n",
    "    print('=> Saving checkpoint')\n",
    "    torch.save(state, filepath)"
   ]
  },
  {
   "cell_type": "code",
   "execution_count": 36,
   "metadata": {},
   "outputs": [],
   "source": [
    "def load_checkpoint(checkpoint):\n",
    "    print('Loading checkpoint')\n",
    "    model.load_state_dict(checkpoint['state_dict'])\n",
    "    model.to(device)\n",
    "    optimizer.load_state_dict(checkpoint['optimizer'])"
   ]
  },
  {
   "cell_type": "code",
   "execution_count": 18,
   "metadata": {},
   "outputs": [],
   "source": [
    "model = Bi_LSTM(input_size = input_size, hidden_size = hidden_size, num_classes = num_classes, num_layers = num_layers).to(device)"
   ]
  },
  {
   "cell_type": "code",
   "execution_count": 19,
   "metadata": {},
   "outputs": [],
   "source": [
    "loss_func = nn.CrossEntropyLoss()\n",
    "optimizer = optim.Adam(params = model.parameters(), lr = learning_rate)"
   ]
  },
  {
   "cell_type": "code",
   "execution_count": 20,
   "metadata": {},
   "outputs": [
    {
     "name": "stdout",
     "output_type": "stream",
     "text": [
      "Epoch 2: 0.11308343708515167\n",
      "=> Saving checkpoint\n",
      "Epoch 4: 0.11992066353559494\n",
      "=> Saving checkpoint\n",
      "Epoch 6: 0.009353105910122395\n",
      "=> Saving checkpoint\n"
     ]
    }
   ],
   "source": [
    "loss_cummulative = []\n",
    "for epoch in range(num_epochs):\n",
    "\n",
    "    if epoch != 0 and epoch % 2 == 0:\n",
    "        checkpoint = {'state_dict': model.state_dict(), 'optimizer': optimizer.state_dict()}\n",
    "        print(f'Epoch {epoch}:', loss_cummulative[-1])\n",
    "        save_checkpoint(checkpoint)\n",
    "\n",
    "    for (data, label) in train_loader:\n",
    "        data = data.to(device).squeeze()\n",
    "        label = label.to(device)\n",
    "\n",
    "        Y_pred = model(data)\n",
    "        loss = loss_func(Y_pred, label)\n",
    "        loss_cummulative.append(loss.item())\n",
    "        \n",
    "        optimizer.zero_grad()\n",
    "        loss.backward()\n",
    "\n",
    "        optimizer.step()"
   ]
  },
  {
   "cell_type": "code",
   "execution_count": 29,
   "metadata": {},
   "outputs": [
    {
     "data": {
      "image/png": "[encoded data removed]",
      "text/plain": [
       "<Figure size 432x288 with 1 Axes>"
      ]
     },
     "metadata": {
      "needs_background": "light"
     },
     "output_type": "display_data"
    }
   ],
   "source": [
    "plt.plot(loss_cummulative)\n",
    "plt.xlabel('Epoch', fontsize = 14, c = 'r')\n",
    "plt.ylabel('Loss', fontsize = 14, c = 'r')\n",
    "plt.show()"
   ]
  },
  {
   "cell_type": "code",
   "execution_count": 22,
   "metadata": {},
   "outputs": [],
   "source": [
    "def check_acc(loader, model):\n",
    "    num_correct = 0\n",
    "    num_samples = 0\n",
    "    model.eval()\n",
    "\n",
    "    with torch.no_grad():\n",
    "        for data, labels in loader:\n",
    "            data = data.to(device).squeeze(1)\n",
    "            labels = labels.to(device)\n",
    "\n",
    "            Y_pred = model(data)\n",
    "            _, max_idx = Y_pred.max(dim = 1)\n",
    "\n",
    "            num_correct += (max_idx == labels).sum()\n",
    "            num_samples += Y_pred.shape[0]\n",
    "        \n",
    "        print(f\"Got {num_correct}/{num_samples} with accuracy {num_correct/num_samples*100:.2f}\")"
   ]
  },
  {
   "cell_type": "code",
   "execution_count": 23,
   "metadata": {},
   "outputs": [
    {
     "name": "stdout",
     "output_type": "stream",
     "text": [
      "Got 9871/10000 with accuracy 98.71\n"
     ]
    }
   ],
   "source": [
    "check_acc(test_loader, model)"
   ]
  },
  {
   "cell_type": "code",
   "execution_count": 37,
   "metadata": {},
   "outputs": [
    {
     "name": "stdout",
     "output_type": "stream",
     "text": [
      "Loading checkpoint\n"
     ]
    }
   ],
   "source": [
    "if load_model:\n",
    "    load_checkpoint(torch.load('my_model.pth'))"
   ]
  },
  {
   "cell_type": "code",
   "execution_count": 39,
   "metadata": {},
   "outputs": [
    {
     "name": "stdout",
     "output_type": "stream",
     "text": [
      "Epoch 2: 0.0019194057676941156\n",
      "=> Saving checkpoint\n",
      "Epoch 4: 0.001912266481667757\n",
      "=> Saving checkpoint\n",
      "Epoch 6: 0.006124410312622786\n",
      "=> Saving checkpoint\n"
     ]
    }
   ],
   "source": [
    "loss_cummulative = []\n",
    "model.train()\n",
    "for epoch in range(num_epochs):\n",
    "\n",
    "    if epoch != 0 and epoch % 2 == 0:\n",
    "        checkpoint = {'state_dict': model.state_dict(), 'optimizer': optimizer.state_dict()}\n",
    "        print(f'Epoch {epoch}:', loss_cummulative[-1])\n",
    "        save_checkpoint(checkpoint)\n",
    "\n",
    "    for (data, label) in train_loader:\n",
    "        data = data.to(device).squeeze()\n",
    "        label = label.to(device)\n",
    "\n",
    "        Y_pred = model(data)\n",
    "        loss = loss_func(Y_pred, label)\n",
    "        loss_cummulative.append(loss.item())\n",
    "        \n",
    "        optimizer.zero_grad()\n",
    "        loss.backward()\n",
    "\n",
    "        optimizer.step()"
   ]
  },
  {
   "cell_type": "code",
   "execution_count": 53,
   "metadata": {},
   "outputs": [],
   "source": [
    "new_optimizer = optim.RMSprop(params = model.parameters(), lr = 1e-4)\n",
    "check_point = {\"epoch\": 5, 'optim_state': new_optimizer.state_dict()}"
   ]
  },
  {
   "cell_type": "code",
   "execution_count": 54,
   "metadata": {},
   "outputs": [],
   "source": [
    "optimizer.load_state_dict(check_point['optim_state'])\n",
    "no_epochss = check_point['epoch']"
   ]
  },
  {
   "cell_type": "code",
   "execution_count": 55,
   "metadata": {},
   "outputs": [
    {
     "name": "stdout",
     "output_type": "stream",
     "text": [
      "Epoch 2: 4.2503328586462885e-05\n",
      "=> Saving checkpoint\n",
      "Epoch 4: 0.0001963758550118655\n",
      "=> Saving checkpoint\n"
     ]
    }
   ],
   "source": [
    "loss_cummulative = []\n",
    "model.train()\n",
    "for epoch in range(no_epochss):\n",
    "\n",
    "    if epoch != 0 and epoch % 2 == 0:\n",
    "        checkpoint = {'state_dict': model.state_dict(), 'optimizer': optimizer.state_dict()}\n",
    "        print(f'Epoch {epoch}:', loss_cummulative[-1])\n",
    "        save_checkpoint(checkpoint)\n",
    "\n",
    "    for (data, label) in train_loader:\n",
    "        data = data.to(device).squeeze()\n",
    "        label = label.to(device)\n",
    "\n",
    "        Y_pred = model(data)\n",
    "        loss = loss_func(Y_pred, label)\n",
    "        loss_cummulative.append(loss.item())\n",
    "        \n",
    "        new_optimizer.zero_grad()\n",
    "        loss.backward()\n",
    "\n",
    "        new_optimizer.step()"
   ]
  },
  {
   "cell_type": "code",
   "execution_count": 56,
   "metadata": {},
   "outputs": [
    {
     "data": {
      "image/png": "[encoded data removed]",
      "text/plain": [
       "<Figure size 432x288 with 1 Axes>"
      ]
     },
     "metadata": {
      "needs_background": "light"
     },
     "output_type": "display_data"
    }
   ],
   "source": [
    "plt.plot(loss_cummulative)\n",
    "plt.xlabel('Epoch', fontsize = 14, c = 'r')\n",
    "plt.ylabel('Loss', fontsize = 14, c = 'r')\n",
    "plt.show()"
   ]
  }
 ],
 "metadata": {
  "interpreter": {
   "hash": "aa441d2f3400368b5418447fdae6b470aa6bbbb26644267fca0e92331fc430b8"
  },
  "kernelspec": {
   "display_name": "Python 3.9.7 ('DL')",
   "language": "python",
   "name": "python3"
  },
  "language_info": {
   "codemirror_mode": {
    "name": "ipython",
    "version": 3
   },
   "file_extension": ".py",
   "mimetype": "text/x-python",
   "name": "python",
   "nbconvert_exporter": "python",
   "pygments_lexer": "ipython3",
   "version": "3.9.7"
  },
  "orig_nbformat": 4
 },
 "nbformat": 4,
 "nbformat_minor": 2
}
