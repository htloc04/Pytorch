{
 "cells": [
  {
   "cell_type": "markdown",
   "metadata": {},
   "source": [
    "https://sh-tsang.medium.com/review-empirical-evaluation-of-gated-recurrent-neural-networks-on-sequence-modeling-gru-2adb86559257\n",
    "\n",
    "https://pytorch.org/docs/stable/generated/torch.nn.RNN.html\n",
    "\n",
    "https://www.youtube.com/watch?v=0_PgWWmauHk"
   ]
  },
  {
   "cell_type": "code",
   "execution_count": 24,
   "metadata": {},
   "outputs": [],
   "source": [
    "import torch\n",
    "import torch.nn as nn   # All neural network modules, nn.Linear, nn.Conv2d, BatchNorm, LossFunctions\n",
    "import torch.optim as optim     #  For all optimization algorithms, SGD, Adam, etc.\n",
    "import torch.nn.functional as F     #  All functions that dont have any parameters\n",
    "from torch.utils.data import DataLoader     #  Gives easier datasets managment and creates mini batches\n",
    "import torchvision.datasets as datasets     #  Has standard datasets we can import in a nice way\n",
    "import torchvision.transforms as transforms     #  Transformations we can perform on our dataset \n",
    "import matplotlib.pyplot as plt"
   ]
  },
  {
   "cell_type": "code",
   "execution_count": 25,
   "metadata": {},
   "outputs": [],
   "source": [
    "device = 'cuda' if torch.cuda.is_available() else 'cpu'"
   ]
  },
  {
   "cell_type": "code",
   "execution_count": 26,
   "metadata": {},
   "outputs": [],
   "source": [
    "#   Hyperparemeters\n",
    "input_size = 28\n",
    "sequence_len = 28\n",
    "num_class = 10\n",
    "num_layers = 2\n",
    "hidden_size = 256\n",
    "learning_rate = 0.001\n",
    "batch_size = 64\n",
    "num_epochs = 2"
   ]
  },
  {
   "cell_type": "code",
   "execution_count": 27,
   "metadata": {},
   "outputs": [],
   "source": [
    "#   Create a RNN\n",
    "class RNN(nn.Module):\n",
    "    def __init__(self, input_size, hidden_size, num_layers, num_class):\n",
    "        super(RNN, self).__init__()\n",
    "        self.hidden_size = hidden_size\n",
    "        self.num_layers = num_layers\n",
    "        self.lstm = nn.LSTM(input_size, hidden_size, num_layers, batch_first = True)\n",
    "        self.fc = nn.Linear(hidden_size, num_class)\n",
    "\n",
    "    def forward(self, x):\n",
    "        #   Shape of INPUT:  1. x => (batch_size x sequence_len x input_size)\n",
    "        #                    2. h0 => (num_layers x batch_size x hidden_size)\n",
    "        h0 = torch.randn(self.num_layers, x.size(dim = 0), self.hidden_size).to(device = device)\n",
    "        c0 = torch.randn(self.num_layers, x.size(dim = 0), self.hidden_size).to(device = device)\n",
    "        #   Shape of OUTPUT:  1. out => (batch_size x sequence_len x hidden_size)\n",
    "        #                     2. h_n => (num_layers x batch_size x hidden_size)\n",
    "        out, (hn, cn) = self.lstm(x, (h0, c0))\n",
    "        #   Feed only last hidden state to fc layer\n",
    "        out = out[:, -1, :]\n",
    "        out = self.fc(out)\n",
    "        return out"
   ]
  },
  {
   "cell_type": "code",
   "execution_count": 29,
   "metadata": {},
   "outputs": [],
   "source": [
    "train_data = datasets.MNIST(root = 'Datasets\\\\', train = True, transform = transforms.ToTensor(), download = False)\n",
    "train_loader = DataLoader(dataset = train_data, batch_size = batch_size, shuffle = True)\n",
    "test_data = datasets.MNIST(root = 'Datasets\\\\', train = False, transform = transforms.ToTensor(), download = False)\n",
    "test_loader = DataLoader(dataset = test_data, batch_size = batch_size, shuffle = False)"
   ]
  },
  {
   "cell_type": "code",
   "execution_count": 30,
   "metadata": {},
   "outputs": [],
   "source": [
    "model = RNN(input_size = input_size, hidden_size = hidden_size, num_layers = num_layers, num_class = num_class).to(device)"
   ]
  },
  {
   "cell_type": "code",
   "execution_count": 31,
   "metadata": {},
   "outputs": [],
   "source": [
    "loss_func = nn.CrossEntropyLoss()\n",
    "optimizer = optim.Adam(params = model.parameters(), lr = learning_rate)"
   ]
  },
  {
   "cell_type": "code",
   "execution_count": 32,
   "metadata": {},
   "outputs": [],
   "source": [
    "loss_cummulative = []\n",
    "for epoch in range(num_epochs):\n",
    "    for (data, labels) in train_loader:\n",
    "        data = data.to(device).squeeze(1)\n",
    "        labels = labels.to(device)\n",
    "\n",
    "        Y_pred = model(data)\n",
    "        loss = loss_func(Y_pred, labels)\n",
    "        loss_cummulative.append(loss.item())\n",
    "\n",
    "        optimizer.zero_grad()\n",
    "        loss.backward()\n",
    "\n",
    "        optimizer.step()"
   ]
  },
  {
   "cell_type": "code",
   "execution_count": 33,
   "metadata": {},
   "outputs": [
    {
     "data": {
      "image/png": "[encoded data removed]",
      "text/plain": [
       "<Figure size 432x288 with 1 Axes>"
      ]
     },
     "metadata": {
      "needs_background": "light"
     },
     "output_type": "display_data"
    }
   ],
   "source": [
    "plt.plot(loss_cummulative);"
   ]
  },
  {
   "cell_type": "code",
   "execution_count": 34,
   "metadata": {},
   "outputs": [],
   "source": [
    "def check_acc(loader, model):\n",
    "    num_correct = 0\n",
    "    num_samples = 0\n",
    "    model.eval()\n",
    "\n",
    "    with torch.no_grad():\n",
    "        for data, labels in loader:\n",
    "            data = data.to(device).squeeze(1)\n",
    "            labels = labels.to(device)\n",
    "\n",
    "            Y_pred = model(data)\n",
    "            _, max_idx = Y_pred.max(dim = 1)\n",
    "\n",
    "            num_correct += (max_idx == labels).sum()\n",
    "            num_samples += Y_pred.shape[0]\n",
    "        \n",
    "        print(f\"Got {num_correct}/{num_samples} with accuracy {num_correct/num_samples*100:.2f}\")"
   ]
  },
  {
   "cell_type": "code",
   "execution_count": 35,
   "metadata": {},
   "outputs": [
    {
     "name": "stdout",
     "output_type": "stream",
     "text": [
      "Got 9763/10000 with accuracy 97.63\n"
     ]
    }
   ],
   "source": [
    "check_acc(test_loader, model)"
   ]
  }
 ],
 "metadata": {
  "interpreter": {
   "hash": "aa441d2f3400368b5418447fdae6b470aa6bbbb26644267fca0e92331fc430b8"
  },
  "kernelspec": {
   "display_name": "Python 3.9.7 ('DL')",
   "language": "python",
   "name": "python3"
  },
  "language_info": {
   "codemirror_mode": {
    "name": "ipython",
    "version": 3
   },
   "file_extension": ".py",
   "mimetype": "text/x-python",
   "name": "python",
   "nbconvert_exporter": "python",
   "pygments_lexer": "ipython3",
   "version": "3.9.7"
  },
  "orig_nbformat": 4
 },
 "nbformat": 4,
 "nbformat_minor": 2
}
